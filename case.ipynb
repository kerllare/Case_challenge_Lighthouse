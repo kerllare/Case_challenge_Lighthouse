{
 "cells": [
  {
   "cell_type": "markdown",
   "metadata": {},
   "source": [
    "## *Análise exploratória* ##\n",
    "\n",
    "*__Para entender a estrutura, padrões, distribuições e características principais dos dados antes de realizar análises mais aprofundadas__*"
   ]
  },
  {
   "cell_type": "markdown",
   "metadata": {},
   "source": [
    "__Case__\n",
    "\n",
    "- André Tech e sua equipe fazem análises manuais para o banco, que tem riscos de erros e falhas de processo.\n",
    "\n",
    "-> BI centraliza e automatiza os processos com confiabilidade e visibilidade.\n",
    "\n",
    "- Camila Diniz, quer investir mais em marketing e melhorar a segmentação dos clientes nas cidades que o banco já está estabelecido.\n",
    "\n",
    "-> BI da visibilidade para saber em quais segmentos mais vale investir em marketing.\n",
    "\n",
    "- Lucas Johnson, propõe comparar popularidade agencias digitais e físicas. Também explorar como PIX afetou as transações, identificar padrões de inatividade.\n",
    "\n",
    "-> Medir transações em agencias fisicas e digitais x tempo. Também medir pix x serviços similares como transferência, TED, DOC, boleto, débito, crédito\n",
    "\n"
   ]
  },
  {
   "cell_type": "markdown",
   "metadata": {},
   "source": [
    "`1.-Como podemos convencer Camila Diniz, diretora comercial, que as nossas soluções serão úteis para a empresa?`\n",
    "\n",
    "-> Mostrando que BI potencializa os resultados do marketing.\n",
    "\n",
    "-Faremos uma análise exploratória para entender quais perguntas de negócio podemos responder para mostrar o valor que dados possuem para a empresa?\n",
    "\n",
    "-> 1) Como minimizar os riscos de fazer análises manuais?\n",
    "   2) Como otimizar o direcionamento do investimento em marketing?\n",
    "   3) Como determinar as tendências no uso de agencias físicas em comparação com agencias digitais?\n",
    "   4) Como identificar padrões no uso de serviços como Pix em comparação com serviços similares?\n",
    "\n",
    "\n",
    "`2.-Quais serão os indicadores ou visualizações utilizadas para responder às perguntas de negócio citadas anteriormente?`\n",
    "\n",
    "  -Um dashboard dos principais KPIs de negócio do BanVic permitindo um detalhamento por data, por agência e por clientes.\n",
    "  \n",
    "-> 1) KPI: Tempo médio e quantidade de falhas encontradas em análises (comparar feitas manualmente pelo André x feitas por especialista análise de dados)\n",
    "\n",
    "   2) Visualização: Segmentos de clientes que trazem e tem o potencial de trazer maior renda para o banco para investimento de marketing nesses segmentos\n",
    "\n",
    "   3) KPI: Taxa de transações diárias por tipo de agencia (fisica x digital)\n",
    "   \n",
    "   4) KPI: Taxa de transferências diárias por serviço (pix, transferência bancária, TED, DOC, boleto, débito, crédito)\n",
    "\n",
    "`3.-Apresentar pelo menos duas análises de negócio para cada categoria:`\n",
    "\n",
    "->\n",
    "\n",
    "1. Análise Descritiva\n",
    "2. Análise diagnóstica;\n",
    "3. Análise prescritiva;\n",
    "4. Análise preditiva.\n"
   ]
  },
  {
   "cell_type": "markdown",
   "metadata": {},
   "source": []
  },
  {
   "cell_type": "code",
   "execution_count": 5,
   "metadata": {},
   "outputs": [],
   "source": [
    "#importando pandas para visualizacão de dataframes\n",
    "import pandas as pd\n",
    "#importando matplotlib.pyplot para visualizações preliminares\n",
    "import matplotlib.pyplot as plt\n"
   ]
  },
  {
   "cell_type": "markdown",
   "metadata": {},
   "source": [
    "Importar os datasets e visualizando suas primeiras linhas"
   ]
  },
  {
   "cell_type": "code",
   "execution_count": 65,
   "metadata": {},
   "outputs": [
    {
     "name": "stdout",
     "output_type": "stream",
     "text": [
      "Index(['cod_cliente', 'primeiro_nome', 'ultimo_nome', 'email', 'tipo_cliente',\n",
      "       'data_inclusao', 'cpfcnpj', 'data_nascimento', 'endereco', 'cep'],\n",
      "      dtype='object')\n"
     ]
    },
    {
     "data": {
      "text/html": [
       "<div>\n",
       "<style scoped>\n",
       "    .dataframe tbody tr th:only-of-type {\n",
       "        vertical-align: middle;\n",
       "    }\n",
       "\n",
       "    .dataframe tbody tr th {\n",
       "        vertical-align: top;\n",
       "    }\n",
       "\n",
       "    .dataframe thead th {\n",
       "        text-align: right;\n",
       "    }\n",
       "</style>\n",
       "<table border=\"1\" class=\"dataframe\">\n",
       "  <thead>\n",
       "    <tr style=\"text-align: right;\">\n",
       "      <th></th>\n",
       "      <th>cod_cliente</th>\n",
       "      <th>primeiro_nome</th>\n",
       "      <th>ultimo_nome</th>\n",
       "      <th>email</th>\n",
       "      <th>tipo_cliente</th>\n",
       "      <th>data_inclusao</th>\n",
       "      <th>cpfcnpj</th>\n",
       "      <th>data_nascimento</th>\n",
       "      <th>endereco</th>\n",
       "      <th>cep</th>\n",
       "    </tr>\n",
       "  </thead>\n",
       "  <tbody>\n",
       "    <tr>\n",
       "      <th>0</th>\n",
       "      <td>28</td>\n",
       "      <td>Sabrina</td>\n",
       "      <td>Dias</td>\n",
       "      <td>moreiraemanuelly@example.org</td>\n",
       "      <td>PF</td>\n",
       "      <td>2017-04-03 16:11:00 UTC</td>\n",
       "      <td>357.081.496-39</td>\n",
       "      <td>2006-08-11</td>\n",
       "      <td>Praia de Duarte Vila Piratininga 81327-166 Fer...</td>\n",
       "      <td>95140-704</td>\n",
       "    </tr>\n",
       "    <tr>\n",
       "      <th>1</th>\n",
       "      <td>674</td>\n",
       "      <td>Luiz Felipe</td>\n",
       "      <td>Dias</td>\n",
       "      <td>pedroferreira@example.org</td>\n",
       "      <td>PF</td>\n",
       "      <td>2021-02-10 13:27:00 UTC</td>\n",
       "      <td>085.196.374-93</td>\n",
       "      <td>1995-10-11</td>\n",
       "      <td>Avenida da Rosa, 654 João Paulo Ii 20295449 Nu...</td>\n",
       "      <td>76516-765</td>\n",
       "    </tr>\n",
       "    <tr>\n",
       "      <th>2</th>\n",
       "      <td>693</td>\n",
       "      <td>Renan</td>\n",
       "      <td>Dias</td>\n",
       "      <td>ogomes@example.net</td>\n",
       "      <td>PF</td>\n",
       "      <td>2020-01-21 13:12:00 UTC</td>\n",
       "      <td>783.416.059-10</td>\n",
       "      <td>1948-11-19</td>\n",
       "      <td>Jardim de Rodrigues Ipiranga 14161-477 Duarte ...</td>\n",
       "      <td>51779625</td>\n",
       "    </tr>\n",
       "    <tr>\n",
       "      <th>3</th>\n",
       "      <td>743</td>\n",
       "      <td>Clara</td>\n",
       "      <td>Dias</td>\n",
       "      <td>rafaelcorreia@example.org</td>\n",
       "      <td>PF</td>\n",
       "      <td>2019-05-06 11:39:00 UTC</td>\n",
       "      <td>589.237.610-95</td>\n",
       "      <td>1978-01-27</td>\n",
       "      <td>Colônia Thomas Silva, 9 Tupi B 15771-946 Ferna...</td>\n",
       "      <td>19615792</td>\n",
       "    </tr>\n",
       "    <tr>\n",
       "      <th>4</th>\n",
       "      <td>769</td>\n",
       "      <td>André</td>\n",
       "      <td>Dias</td>\n",
       "      <td>danilo33@example.org</td>\n",
       "      <td>PF</td>\n",
       "      <td>2017-01-07 14:53:00 UTC</td>\n",
       "      <td>459.608.721-02</td>\n",
       "      <td>1990-08-25</td>\n",
       "      <td>Rua Correia, 889 Diamante 59123250 Aragão / RS</td>\n",
       "      <td>01672838</td>\n",
       "    </tr>\n",
       "  </tbody>\n",
       "</table>\n",
       "</div>"
      ],
      "text/plain": [
       "   cod_cliente primeiro_nome ultimo_nome                         email  \\\n",
       "0           28       Sabrina        Dias  moreiraemanuelly@example.org   \n",
       "1          674   Luiz Felipe        Dias     pedroferreira@example.org   \n",
       "2          693         Renan        Dias            ogomes@example.net   \n",
       "3          743         Clara        Dias     rafaelcorreia@example.org   \n",
       "4          769         André        Dias          danilo33@example.org   \n",
       "\n",
       "  tipo_cliente            data_inclusao         cpfcnpj data_nascimento  \\\n",
       "0           PF  2017-04-03 16:11:00 UTC  357.081.496-39      2006-08-11   \n",
       "1           PF  2021-02-10 13:27:00 UTC  085.196.374-93      1995-10-11   \n",
       "2           PF  2020-01-21 13:12:00 UTC  783.416.059-10      1948-11-19   \n",
       "3           PF  2019-05-06 11:39:00 UTC  589.237.610-95      1978-01-27   \n",
       "4           PF  2017-01-07 14:53:00 UTC  459.608.721-02      1990-08-25   \n",
       "\n",
       "                                            endereco        cep  \n",
       "0  Praia de Duarte Vila Piratininga 81327-166 Fer...  95140-704  \n",
       "1  Avenida da Rosa, 654 João Paulo Ii 20295449 Nu...  76516-765  \n",
       "2  Jardim de Rodrigues Ipiranga 14161-477 Duarte ...   51779625  \n",
       "3  Colônia Thomas Silva, 9 Tupi B 15771-946 Ferna...   19615792  \n",
       "4     Rua Correia, 889 Diamante 59123250 Aragão / RS   01672838  "
      ]
     },
     "execution_count": 65,
     "metadata": {},
     "output_type": "execute_result"
    }
   ],
   "source": [
    "df = pd.read_csv(\"clientes.csv\")\n",
    "print(df.columns)\n",
    "df.head(5)"
   ]
  },
  {
   "cell_type": "code",
   "execution_count": 67,
   "metadata": {},
   "outputs": [
    {
     "data": {
      "text/plain": [
       "494    Passarela Luiz Otávio Nascimento Conjunto Jard...\n",
       "495    Feira Aragão, 41 Marmiteiros 56012309 Araújo / AM\n",
       "496    Morro Pedro Miguel Pinto, 9 São Luiz 98347-897...\n",
       "497    Recanto Gustavo Henrique Dias, 64 Vila Da Paz ...\n",
       "498    Vila Maria Fernanda Barbosa, 10 Virgínia 52639...\n",
       "499    Sítio de da Mota Engenho Nogueira 86201-053 Co...\n",
       "500     Vila Sales, 56 São Lucas 72371269 das Neves / PA\n",
       "501    Núcleo Peixoto, 29 Beija Flor 12707682 Cunha / RR\n",
       "502    Distrito Clarice da Luz, 35 Lourdes 24553496 L...\n",
       "503    Trecho Yago Dias, 20 Jardim América 07951411 d...\n",
       "Name: endereco, dtype: object"
      ]
     },
     "metadata": {},
     "output_type": "display_data"
    },
    {
     "data": {
      "text/plain": [
       "978    Praça Barros, 4 Unidas 18759785 Cardoso de Goi...\n",
       "979    Largo Novaes, 62 Alípio De Melo 10978-312 Cast...\n",
       "980    Trecho Gomes, 615 Concórdia 78034-295 Nascimen...\n",
       "981    Núcleo de Barbosa, 483 Santo André 73918-122 A...\n",
       "982    Viaduto de Barbosa, 97 Nova America 88034834 S...\n",
       "983    Vereda da Luz, 34 Cachoeirinha 24441510 Campos...\n",
       "984    Estação Moura, 903 Olhos D'água 09013-005 Barr...\n",
       "985    Alameda de Ferreira, 35 Vila Nova Gameleira 1ª...\n",
       "986    Vila Cavalcanti, 8 Milionario 04460296 Cardoso...\n",
       "987    Viaduto Bruno Dias, 68 Mariquinhas 02965-100 R...\n",
       "988    Lagoa Lucca da Luz, 81 Laranjeiras 49327056 Fa...\n",
       "989    Sítio Teixeira, 17 Vila Engenho Nogueira 44233...\n",
       "990    Conjunto Sales, 85 Santo Agostinho 25555778 Al...\n",
       "991    Ladeira de Ferreira Nova Pampulha 71101341 Aze...\n",
       "992    Viela Araújo, 98 Xodo-Marize 64207859 Teixeira...\n",
       "993    Chácara de Martins, 85 Mantiqueira 26805-573 A...\n",
       "994      Pátio de Souza, 8 Vila Puc 47056676 Duarte / MS\n",
       "995    Loteamento Pires, 4 Jardim Felicidade 69804-76...\n",
       "996    Travessa Eloah Moura, 97 Alta Tensão 2ª Seção ...\n",
       "997    Feira de Vieira, 1 Planalto 31794137 Rodrigues...\n",
       "Name: endereco, dtype: object"
      ]
     },
     "metadata": {},
     "output_type": "display_data"
    }
   ],
   "source": [
    "meio = len(df['endereco']) // 2\n",
    "display(df['endereco'].iloc[meio-5:meio+5])\n",
    "\n",
    "display(df['endereco'].tail(20))"
   ]
  },
  {
   "cell_type": "code",
   "execution_count": 7,
   "metadata": {},
   "outputs": [
    {
     "name": "stdout",
     "output_type": "stream",
     "text": [
      "O DataFrame \"clientes\" possui 998 linhas.\n"
     ]
    }
   ],
   "source": [
    "\n",
    "#obter o número de linhas\n",
    "num_linhas = len(df)\n",
    "\n",
    "print(f'O DataFrame \"clientes\" possui {num_linhas} linhas.')\n"
   ]
  },
  {
   "cell_type": "code",
   "execution_count": 8,
   "metadata": {},
   "outputs": [
    {
     "name": "stdout",
     "output_type": "stream",
     "text": [
      "Index(['cod_agencia', 'nome', 'endereco', 'cidade', 'uf', 'data_abertura',\n",
      "       'tipo_agencia'],\n",
      "      dtype='object')\n"
     ]
    },
    {
     "data": {
      "text/html": [
       "<div>\n",
       "<style scoped>\n",
       "    .dataframe tbody tr th:only-of-type {\n",
       "        vertical-align: middle;\n",
       "    }\n",
       "\n",
       "    .dataframe tbody tr th {\n",
       "        vertical-align: top;\n",
       "    }\n",
       "\n",
       "    .dataframe thead th {\n",
       "        text-align: right;\n",
       "    }\n",
       "</style>\n",
       "<table border=\"1\" class=\"dataframe\">\n",
       "  <thead>\n",
       "    <tr style=\"text-align: right;\">\n",
       "      <th></th>\n",
       "      <th>cod_agencia</th>\n",
       "      <th>nome</th>\n",
       "      <th>endereco</th>\n",
       "      <th>cidade</th>\n",
       "      <th>uf</th>\n",
       "      <th>data_abertura</th>\n",
       "      <th>tipo_agencia</th>\n",
       "    </tr>\n",
       "  </thead>\n",
       "  <tbody>\n",
       "    <tr>\n",
       "      <th>0</th>\n",
       "      <td>7</td>\n",
       "      <td>Agência Digital</td>\n",
       "      <td>Av. Paulista, 1436 - Cerqueira César, São Paul...</td>\n",
       "      <td>São Paulo</td>\n",
       "      <td>SP</td>\n",
       "      <td>2015-08-01</td>\n",
       "      <td>Digital</td>\n",
       "    </tr>\n",
       "    <tr>\n",
       "      <th>1</th>\n",
       "      <td>1</td>\n",
       "      <td>Agência Matriz</td>\n",
       "      <td>Av. Paulista, 1436 - Cerqueira César, São Paul...</td>\n",
       "      <td>São Paulo</td>\n",
       "      <td>SP</td>\n",
       "      <td>2010-01-01</td>\n",
       "      <td>Física</td>\n",
       "    </tr>\n",
       "    <tr>\n",
       "      <th>2</th>\n",
       "      <td>2</td>\n",
       "      <td>Agência Tatuapé</td>\n",
       "      <td>Praça Sílvio Romero, 158 - Tatuapé, São Paulo ...</td>\n",
       "      <td>São Paulo</td>\n",
       "      <td>SP</td>\n",
       "      <td>2010-06-14</td>\n",
       "      <td>Física</td>\n",
       "    </tr>\n",
       "  </tbody>\n",
       "</table>\n",
       "</div>"
      ],
      "text/plain": [
       "   cod_agencia             nome  \\\n",
       "0            7  Agência Digital   \n",
       "1            1   Agência Matriz   \n",
       "2            2  Agência Tatuapé   \n",
       "\n",
       "                                            endereco     cidade  uf  \\\n",
       "0  Av. Paulista, 1436 - Cerqueira César, São Paul...  São Paulo  SP   \n",
       "1  Av. Paulista, 1436 - Cerqueira César, São Paul...  São Paulo  SP   \n",
       "2  Praça Sílvio Romero, 158 - Tatuapé, São Paulo ...  São Paulo  SP   \n",
       "\n",
       "  data_abertura tipo_agencia  \n",
       "0    2015-08-01      Digital  \n",
       "1    2010-01-01       Física  \n",
       "2    2010-06-14       Física  "
      ]
     },
     "execution_count": 8,
     "metadata": {},
     "output_type": "execute_result"
    }
   ],
   "source": [
    "df = pd.read_csv(\"agencias.csv\")\n",
    "print(df.columns)\n",
    "df.head(3)"
   ]
  },
  {
   "cell_type": "code",
   "execution_count": 9,
   "metadata": {},
   "outputs": [
    {
     "name": "stdout",
     "output_type": "stream",
     "text": [
      "Index(['cod_colaborador', 'cod_agencia'], dtype='object')\n"
     ]
    },
    {
     "data": {
      "text/html": [
       "<div>\n",
       "<style scoped>\n",
       "    .dataframe tbody tr th:only-of-type {\n",
       "        vertical-align: middle;\n",
       "    }\n",
       "\n",
       "    .dataframe tbody tr th {\n",
       "        vertical-align: top;\n",
       "    }\n",
       "\n",
       "    .dataframe thead th {\n",
       "        text-align: right;\n",
       "    }\n",
       "</style>\n",
       "<table border=\"1\" class=\"dataframe\">\n",
       "  <thead>\n",
       "    <tr style=\"text-align: right;\">\n",
       "      <th></th>\n",
       "      <th>cod_colaborador</th>\n",
       "      <th>cod_agencia</th>\n",
       "    </tr>\n",
       "  </thead>\n",
       "  <tbody>\n",
       "    <tr>\n",
       "      <th>0</th>\n",
       "      <td>7</td>\n",
       "      <td>1</td>\n",
       "    </tr>\n",
       "    <tr>\n",
       "      <th>1</th>\n",
       "      <td>13</td>\n",
       "      <td>1</td>\n",
       "    </tr>\n",
       "    <tr>\n",
       "      <th>2</th>\n",
       "      <td>14</td>\n",
       "      <td>1</td>\n",
       "    </tr>\n",
       "  </tbody>\n",
       "</table>\n",
       "</div>"
      ],
      "text/plain": [
       "   cod_colaborador  cod_agencia\n",
       "0                7            1\n",
       "1               13            1\n",
       "2               14            1"
      ]
     },
     "execution_count": 9,
     "metadata": {},
     "output_type": "execute_result"
    }
   ],
   "source": [
    "df = pd.read_csv(\"colaborador_agencia.csv\")\n",
    "print(df.columns)\n",
    "df.head(3)"
   ]
  },
  {
   "cell_type": "code",
   "execution_count": 10,
   "metadata": {},
   "outputs": [
    {
     "name": "stdout",
     "output_type": "stream",
     "text": [
      "Index(['cod_colaborador', 'primeiro_nome', 'ultimo_nome', 'email', 'cpf',\n",
      "       'data_nascimento', 'endereco', 'cep'],\n",
      "      dtype='object')\n"
     ]
    },
    {
     "data": {
      "text/html": [
       "<div>\n",
       "<style scoped>\n",
       "    .dataframe tbody tr th:only-of-type {\n",
       "        vertical-align: middle;\n",
       "    }\n",
       "\n",
       "    .dataframe tbody tr th {\n",
       "        vertical-align: top;\n",
       "    }\n",
       "\n",
       "    .dataframe thead th {\n",
       "        text-align: right;\n",
       "    }\n",
       "</style>\n",
       "<table border=\"1\" class=\"dataframe\">\n",
       "  <thead>\n",
       "    <tr style=\"text-align: right;\">\n",
       "      <th></th>\n",
       "      <th>cod_colaborador</th>\n",
       "      <th>primeiro_nome</th>\n",
       "      <th>ultimo_nome</th>\n",
       "      <th>email</th>\n",
       "      <th>cpf</th>\n",
       "      <th>data_nascimento</th>\n",
       "      <th>endereco</th>\n",
       "      <th>cep</th>\n",
       "    </tr>\n",
       "  </thead>\n",
       "  <tbody>\n",
       "    <tr>\n",
       "      <th>0</th>\n",
       "      <td>14</td>\n",
       "      <td>Paulo</td>\n",
       "      <td>Dias</td>\n",
       "      <td>melissalopes@example.net</td>\n",
       "      <td>847.210.695-02</td>\n",
       "      <td>1974-04-24</td>\n",
       "      <td>Lagoa de Rodrigues, 62 Zilah Sposito 37328-273...</td>\n",
       "      <td>27275674</td>\n",
       "    </tr>\n",
       "    <tr>\n",
       "      <th>1</th>\n",
       "      <td>19</td>\n",
       "      <td>Luiz Fernando</td>\n",
       "      <td>Dias</td>\n",
       "      <td>pcunha@example.net</td>\n",
       "      <td>820.415.963-33</td>\n",
       "      <td>1994-07-10</td>\n",
       "      <td>Ladeira de Moreira, 82 Jardim Atlântico 27617-...</td>\n",
       "      <td>50013962</td>\n",
       "    </tr>\n",
       "    <tr>\n",
       "      <th>2</th>\n",
       "      <td>32</td>\n",
       "      <td>Vitor Hugo</td>\n",
       "      <td>Dias</td>\n",
       "      <td>aragaonicolas@example.net</td>\n",
       "      <td>936.172.548-37</td>\n",
       "      <td>1986-12-18</td>\n",
       "      <td>Área Sophie Moreira Maria Virgínia 71941-111 S...</td>\n",
       "      <td>08955-215</td>\n",
       "    </tr>\n",
       "  </tbody>\n",
       "</table>\n",
       "</div>"
      ],
      "text/plain": [
       "   cod_colaborador  primeiro_nome ultimo_nome                      email  \\\n",
       "0               14          Paulo        Dias   melissalopes@example.net   \n",
       "1               19  Luiz Fernando        Dias         pcunha@example.net   \n",
       "2               32     Vitor Hugo        Dias  aragaonicolas@example.net   \n",
       "\n",
       "              cpf data_nascimento  \\\n",
       "0  847.210.695-02      1974-04-24   \n",
       "1  820.415.963-33      1994-07-10   \n",
       "2  936.172.548-37      1986-12-18   \n",
       "\n",
       "                                            endereco        cep  \n",
       "0  Lagoa de Rodrigues, 62 Zilah Sposito 37328-273...   27275674  \n",
       "1  Ladeira de Moreira, 82 Jardim Atlântico 27617-...   50013962  \n",
       "2  Área Sophie Moreira Maria Virgínia 71941-111 S...  08955-215  "
      ]
     },
     "execution_count": 10,
     "metadata": {},
     "output_type": "execute_result"
    }
   ],
   "source": [
    "df = pd.read_csv(\"colaboradores.csv\")\n",
    "print(df.columns)\n",
    "df.head(3)"
   ]
  },
  {
   "cell_type": "code",
   "execution_count": 11,
   "metadata": {},
   "outputs": [
    {
     "name": "stdout",
     "output_type": "stream",
     "text": [
      "Index(['num_conta', 'cod_cliente', 'cod_agencia', 'cod_colaborador',\n",
      "       'tipo_conta', 'data_abertura', 'saldo_total', 'saldo_disponivel',\n",
      "       'data_ultimo_lancamento'],\n",
      "      dtype='object')\n"
     ]
    },
    {
     "data": {
      "text/html": [
       "<div>\n",
       "<style scoped>\n",
       "    .dataframe tbody tr th:only-of-type {\n",
       "        vertical-align: middle;\n",
       "    }\n",
       "\n",
       "    .dataframe tbody tr th {\n",
       "        vertical-align: top;\n",
       "    }\n",
       "\n",
       "    .dataframe thead th {\n",
       "        text-align: right;\n",
       "    }\n",
       "</style>\n",
       "<table border=\"1\" class=\"dataframe\">\n",
       "  <thead>\n",
       "    <tr style=\"text-align: right;\">\n",
       "      <th></th>\n",
       "      <th>num_conta</th>\n",
       "      <th>cod_cliente</th>\n",
       "      <th>cod_agencia</th>\n",
       "      <th>cod_colaborador</th>\n",
       "      <th>tipo_conta</th>\n",
       "      <th>data_abertura</th>\n",
       "      <th>saldo_total</th>\n",
       "      <th>saldo_disponivel</th>\n",
       "      <th>data_ultimo_lancamento</th>\n",
       "    </tr>\n",
       "  </thead>\n",
       "  <tbody>\n",
       "    <tr>\n",
       "      <th>0</th>\n",
       "      <td>53</td>\n",
       "      <td>53</td>\n",
       "      <td>1</td>\n",
       "      <td>7</td>\n",
       "      <td>PF</td>\n",
       "      <td>2011-05-24 15:30:00 UTC</td>\n",
       "      <td>2984.7615</td>\n",
       "      <td>2814.67</td>\n",
       "      <td>2019-07-02 11:03:46 UTC</td>\n",
       "    </tr>\n",
       "    <tr>\n",
       "      <th>1</th>\n",
       "      <td>190</td>\n",
       "      <td>190</td>\n",
       "      <td>1</td>\n",
       "      <td>7</td>\n",
       "      <td>PF</td>\n",
       "      <td>2014-10-17 14:48:00 UTC</td>\n",
       "      <td>4262.4322</td>\n",
       "      <td>4191.86</td>\n",
       "      <td>2021-03-25 12:00:15 UTC</td>\n",
       "    </tr>\n",
       "    <tr>\n",
       "      <th>2</th>\n",
       "      <td>191</td>\n",
       "      <td>191</td>\n",
       "      <td>1</td>\n",
       "      <td>7</td>\n",
       "      <td>PF</td>\n",
       "      <td>2013-03-23 14:14:00 UTC</td>\n",
       "      <td>3266.5680</td>\n",
       "      <td>3080.71</td>\n",
       "      <td>2016-09-09 23:34:15 UTC</td>\n",
       "    </tr>\n",
       "  </tbody>\n",
       "</table>\n",
       "</div>"
      ],
      "text/plain": [
       "   num_conta  cod_cliente  cod_agencia  cod_colaborador tipo_conta  \\\n",
       "0         53           53            1                7         PF   \n",
       "1        190          190            1                7         PF   \n",
       "2        191          191            1                7         PF   \n",
       "\n",
       "             data_abertura  saldo_total  saldo_disponivel  \\\n",
       "0  2011-05-24 15:30:00 UTC    2984.7615           2814.67   \n",
       "1  2014-10-17 14:48:00 UTC    4262.4322           4191.86   \n",
       "2  2013-03-23 14:14:00 UTC    3266.5680           3080.71   \n",
       "\n",
       "    data_ultimo_lancamento  \n",
       "0  2019-07-02 11:03:46 UTC  \n",
       "1  2021-03-25 12:00:15 UTC  \n",
       "2  2016-09-09 23:34:15 UTC  "
      ]
     },
     "execution_count": 11,
     "metadata": {},
     "output_type": "execute_result"
    }
   ],
   "source": [
    "df = pd.read_csv(\"contas.csv\")\n",
    "print(df.columns)\n",
    "df.head(3)"
   ]
  },
  {
   "cell_type": "code",
   "execution_count": 12,
   "metadata": {},
   "outputs": [
    {
     "name": "stdout",
     "output_type": "stream",
     "text": [
      "Index(['cod_proposta', 'cod_cliente', 'cod_colaborador',\n",
      "       'data_entrada_proposta', 'taxa_juros_mensal', 'valor_proposta',\n",
      "       'valor_financiamento', 'valor_entrada', 'valor_prestacao',\n",
      "       'quantidade_parcelas', 'carencia', 'status_proposta'],\n",
      "      dtype='object')\n"
     ]
    },
    {
     "data": {
      "text/html": [
       "<div>\n",
       "<style scoped>\n",
       "    .dataframe tbody tr th:only-of-type {\n",
       "        vertical-align: middle;\n",
       "    }\n",
       "\n",
       "    .dataframe tbody tr th {\n",
       "        vertical-align: top;\n",
       "    }\n",
       "\n",
       "    .dataframe thead th {\n",
       "        text-align: right;\n",
       "    }\n",
       "</style>\n",
       "<table border=\"1\" class=\"dataframe\">\n",
       "  <thead>\n",
       "    <tr style=\"text-align: right;\">\n",
       "      <th></th>\n",
       "      <th>cod_proposta</th>\n",
       "      <th>cod_cliente</th>\n",
       "      <th>cod_colaborador</th>\n",
       "      <th>data_entrada_proposta</th>\n",
       "      <th>taxa_juros_mensal</th>\n",
       "      <th>valor_proposta</th>\n",
       "      <th>valor_financiamento</th>\n",
       "      <th>valor_entrada</th>\n",
       "      <th>valor_prestacao</th>\n",
       "      <th>quantidade_parcelas</th>\n",
       "      <th>carencia</th>\n",
       "      <th>status_proposta</th>\n",
       "    </tr>\n",
       "  </thead>\n",
       "  <tbody>\n",
       "    <tr>\n",
       "      <th>0</th>\n",
       "      <td>116</td>\n",
       "      <td>338</td>\n",
       "      <td>1</td>\n",
       "      <td>2014-05-30 18:43:12 UTC</td>\n",
       "      <td>0.0194</td>\n",
       "      <td>36199.950355</td>\n",
       "      <td>50032.03</td>\n",
       "      <td>13832.079645</td>\n",
       "      <td>1045.219825</td>\n",
       "      <td>58</td>\n",
       "      <td>0</td>\n",
       "      <td>Enviada</td>\n",
       "    </tr>\n",
       "    <tr>\n",
       "      <th>1</th>\n",
       "      <td>715</td>\n",
       "      <td>45</td>\n",
       "      <td>1</td>\n",
       "      <td>2021-06-17 13:09:32 UTC</td>\n",
       "      <td>0.0131</td>\n",
       "      <td>12897.538285</td>\n",
       "      <td>19848.55</td>\n",
       "      <td>6951.011715</td>\n",
       "      <td>232.124685</td>\n",
       "      <td>100</td>\n",
       "      <td>1</td>\n",
       "      <td>Enviada</td>\n",
       "    </tr>\n",
       "    <tr>\n",
       "      <th>2</th>\n",
       "      <td>755</td>\n",
       "      <td>494</td>\n",
       "      <td>1</td>\n",
       "      <td>2021-08-10 04:24:02 UTC</td>\n",
       "      <td>0.0203</td>\n",
       "      <td>122236.312551</td>\n",
       "      <td>187154.36</td>\n",
       "      <td>64918.047449</td>\n",
       "      <td>3673.518951</td>\n",
       "      <td>56</td>\n",
       "      <td>0</td>\n",
       "      <td>Enviada</td>\n",
       "    </tr>\n",
       "  </tbody>\n",
       "</table>\n",
       "</div>"
      ],
      "text/plain": [
       "   cod_proposta  cod_cliente  cod_colaborador    data_entrada_proposta  \\\n",
       "0           116          338                1  2014-05-30 18:43:12 UTC   \n",
       "1           715           45                1  2021-06-17 13:09:32 UTC   \n",
       "2           755          494                1  2021-08-10 04:24:02 UTC   \n",
       "\n",
       "   taxa_juros_mensal  valor_proposta  valor_financiamento  valor_entrada  \\\n",
       "0             0.0194    36199.950355             50032.03   13832.079645   \n",
       "1             0.0131    12897.538285             19848.55    6951.011715   \n",
       "2             0.0203   122236.312551            187154.36   64918.047449   \n",
       "\n",
       "   valor_prestacao  quantidade_parcelas  carencia status_proposta  \n",
       "0      1045.219825                   58         0         Enviada  \n",
       "1       232.124685                  100         1         Enviada  \n",
       "2      3673.518951                   56         0         Enviada  "
      ]
     },
     "execution_count": 12,
     "metadata": {},
     "output_type": "execute_result"
    }
   ],
   "source": [
    "df = pd.read_csv(\"propostas_credito.csv\")\n",
    "print(df.columns)\n",
    "df.head(3)"
   ]
  },
  {
   "cell_type": "code",
   "execution_count": 13,
   "metadata": {},
   "outputs": [
    {
     "name": "stdout",
     "output_type": "stream",
     "text": [
      "Index(['cod_transacao', 'num_conta', 'data_transacao', 'nome_transacao',\n",
      "       'valor_transacao'],\n",
      "      dtype='object')\n"
     ]
    },
    {
     "data": {
      "text/html": [
       "<div>\n",
       "<style scoped>\n",
       "    .dataframe tbody tr th:only-of-type {\n",
       "        vertical-align: middle;\n",
       "    }\n",
       "\n",
       "    .dataframe tbody tr th {\n",
       "        vertical-align: top;\n",
       "    }\n",
       "\n",
       "    .dataframe thead th {\n",
       "        text-align: right;\n",
       "    }\n",
       "</style>\n",
       "<table border=\"1\" class=\"dataframe\">\n",
       "  <thead>\n",
       "    <tr style=\"text-align: right;\">\n",
       "      <th></th>\n",
       "      <th>cod_transacao</th>\n",
       "      <th>num_conta</th>\n",
       "      <th>data_transacao</th>\n",
       "      <th>nome_transacao</th>\n",
       "      <th>valor_transacao</th>\n",
       "    </tr>\n",
       "  </thead>\n",
       "  <tbody>\n",
       "    <tr>\n",
       "      <th>0</th>\n",
       "      <td>3100</td>\n",
       "      <td>256</td>\n",
       "      <td>2020-05-22 03:15:21 UTC</td>\n",
       "      <td>Saque</td>\n",
       "      <td>-130.0</td>\n",
       "    </tr>\n",
       "    <tr>\n",
       "      <th>1</th>\n",
       "      <td>28405</td>\n",
       "      <td>256</td>\n",
       "      <td>2021-06-29 11:52:38 UTC</td>\n",
       "      <td>Saque</td>\n",
       "      <td>-255.0</td>\n",
       "    </tr>\n",
       "    <tr>\n",
       "      <th>2</th>\n",
       "      <td>1776</td>\n",
       "      <td>512</td>\n",
       "      <td>2020-05-17 13:04:50 UTC</td>\n",
       "      <td>Saque</td>\n",
       "      <td>-250.0</td>\n",
       "    </tr>\n",
       "  </tbody>\n",
       "</table>\n",
       "</div>"
      ],
      "text/plain": [
       "   cod_transacao  num_conta           data_transacao nome_transacao  \\\n",
       "0           3100        256  2020-05-22 03:15:21 UTC          Saque   \n",
       "1          28405        256  2021-06-29 11:52:38 UTC          Saque   \n",
       "2           1776        512  2020-05-17 13:04:50 UTC          Saque   \n",
       "\n",
       "   valor_transacao  \n",
       "0           -130.0  \n",
       "1           -255.0  \n",
       "2           -250.0  "
      ]
     },
     "execution_count": 13,
     "metadata": {},
     "output_type": "execute_result"
    }
   ],
   "source": [
    "df = pd.read_csv(\"transacoes.csv\")\n",
    "print(df.columns)\n",
    "df.head(3)"
   ]
  },
  {
   "cell_type": "markdown",
   "metadata": {},
   "source": [
    "Observar os valores das colunas que podem nos interessar"
   ]
  },
  {
   "cell_type": "code",
   "execution_count": 14,
   "metadata": {},
   "outputs": [
    {
     "name": "stdout",
     "output_type": "stream",
     "text": [
      "['PF']\n"
     ]
    }
   ],
   "source": [
    "clientes = pd.read_csv(\"clientes.csv\")\n",
    "tipos_cliente = clientes['tipo_cliente'].unique()\n",
    "print(tipos_cliente)"
   ]
  },
  {
   "cell_type": "markdown",
   "metadata": {},
   "source": [
    "Há somente um tipo de valor na coluna tipo_cliente, \"PF\", provavelmete \"pessoa física\". Descartamos então uma pesquisa de segmentação com essa coluna"
   ]
  },
  {
   "cell_type": "code",
   "execution_count": 15,
   "metadata": {},
   "outputs": [
    {
     "name": "stdout",
     "output_type": "stream",
     "text": [
      "['Digital' 'Física']\n"
     ]
    }
   ],
   "source": [
    "agencias = pd.read_csv(\"agencias.csv\")\n",
    "tipo_agencia= agencias['tipo_agencia'].unique()\n",
    "print(tipo_agencia)\n"
   ]
  },
  {
   "cell_type": "markdown",
   "metadata": {},
   "source": [
    "Em tipo_agencia, temos \"Digital\" e \"Física\". \n",
    "\n",
    "*Algumas possíveis análises, incluem:*\n",
    "\n",
    "Análise comparativa de transações; distribuição geográfica; horários de pico; tipos de transações; avaliação do atendimento ao cliente; desempenho financeiro; adoção de tecnologia; perfil do cliente, análise de custos; preferências de pagamento.\n",
    "  \n",
    "\n",
    "*Definiremos as mais adequadas ao nosso objetivo atual de relatório e de acordo com a disponibilidade de dados nos datasets fornecidos.*"
   ]
  },
  {
   "cell_type": "markdown",
   "metadata": {},
   "source": [
    "Considerando a análise das transações nas diferentes tipologias de agências ao longo dos anos, observamos que a coluna 'data_transacao' no conjunto de dados 'transacoes' apresenta valores no formato ano-mês-dia. Criaremos uma nova coluna que preserve apenas a informação referente aos anos, a fim de facilitar a análise temporal"
   ]
  },
  {
   "cell_type": "code",
   "execution_count": 16,
   "metadata": {},
   "outputs": [
    {
     "data": {
      "text/html": [
       "<div>\n",
       "<style scoped>\n",
       "    .dataframe tbody tr th:only-of-type {\n",
       "        vertical-align: middle;\n",
       "    }\n",
       "\n",
       "    .dataframe tbody tr th {\n",
       "        vertical-align: top;\n",
       "    }\n",
       "\n",
       "    .dataframe thead th {\n",
       "        text-align: right;\n",
       "    }\n",
       "</style>\n",
       "<table border=\"1\" class=\"dataframe\">\n",
       "  <thead>\n",
       "    <tr style=\"text-align: right;\">\n",
       "      <th></th>\n",
       "      <th>cod_transacao</th>\n",
       "      <th>num_conta</th>\n",
       "      <th>data_transacao</th>\n",
       "      <th>nome_transacao</th>\n",
       "      <th>valor_transacao</th>\n",
       "      <th>ano</th>\n",
       "    </tr>\n",
       "  </thead>\n",
       "  <tbody>\n",
       "    <tr>\n",
       "      <th>0</th>\n",
       "      <td>3100</td>\n",
       "      <td>256</td>\n",
       "      <td>2020-05-22 03:15:21+00:00</td>\n",
       "      <td>Saque</td>\n",
       "      <td>-130.0</td>\n",
       "      <td>2020</td>\n",
       "    </tr>\n",
       "    <tr>\n",
       "      <th>1</th>\n",
       "      <td>28405</td>\n",
       "      <td>256</td>\n",
       "      <td>2021-06-29 11:52:38+00:00</td>\n",
       "      <td>Saque</td>\n",
       "      <td>-255.0</td>\n",
       "      <td>2021</td>\n",
       "    </tr>\n",
       "    <tr>\n",
       "      <th>2</th>\n",
       "      <td>1776</td>\n",
       "      <td>512</td>\n",
       "      <td>2020-05-17 13:04:50+00:00</td>\n",
       "      <td>Saque</td>\n",
       "      <td>-250.0</td>\n",
       "      <td>2020</td>\n",
       "    </tr>\n",
       "    <tr>\n",
       "      <th>3</th>\n",
       "      <td>14311</td>\n",
       "      <td>512</td>\n",
       "      <td>2020-09-06 02:55:34+00:00</td>\n",
       "      <td>Saque</td>\n",
       "      <td>-80.0</td>\n",
       "      <td>2020</td>\n",
       "    </tr>\n",
       "    <tr>\n",
       "      <th>4</th>\n",
       "      <td>25012</td>\n",
       "      <td>512</td>\n",
       "      <td>2020-10-16 09:26:52+00:00</td>\n",
       "      <td>Saque</td>\n",
       "      <td>-475.0</td>\n",
       "      <td>2020</td>\n",
       "    </tr>\n",
       "    <tr>\n",
       "      <th>5</th>\n",
       "      <td>26883</td>\n",
       "      <td>512</td>\n",
       "      <td>2020-11-09 00:47:27+00:00</td>\n",
       "      <td>Saque</td>\n",
       "      <td>-210.0</td>\n",
       "      <td>2020</td>\n",
       "    </tr>\n",
       "    <tr>\n",
       "      <th>6</th>\n",
       "      <td>35017</td>\n",
       "      <td>512</td>\n",
       "      <td>2021-04-13 08:17:24+00:00</td>\n",
       "      <td>Saque</td>\n",
       "      <td>-50.0</td>\n",
       "      <td>2021</td>\n",
       "    </tr>\n",
       "    <tr>\n",
       "      <th>7</th>\n",
       "      <td>46264</td>\n",
       "      <td>512</td>\n",
       "      <td>2021-05-01 06:25:50+00:00</td>\n",
       "      <td>Saque</td>\n",
       "      <td>-1160.0</td>\n",
       "      <td>2021</td>\n",
       "    </tr>\n",
       "    <tr>\n",
       "      <th>8</th>\n",
       "      <td>21340</td>\n",
       "      <td>768</td>\n",
       "      <td>2020-02-14 21:42:15+00:00</td>\n",
       "      <td>Saque</td>\n",
       "      <td>-170.0</td>\n",
       "      <td>2020</td>\n",
       "    </tr>\n",
       "    <tr>\n",
       "      <th>9</th>\n",
       "      <td>64259</td>\n",
       "      <td>1</td>\n",
       "      <td>2019-08-11 15:13:07+00:00</td>\n",
       "      <td>Saque</td>\n",
       "      <td>-245.0</td>\n",
       "      <td>2019</td>\n",
       "    </tr>\n",
       "    <tr>\n",
       "      <th>10</th>\n",
       "      <td>28202</td>\n",
       "      <td>257</td>\n",
       "      <td>2022-12-26 05:13:37+00:00</td>\n",
       "      <td>Saque</td>\n",
       "      <td>-215.0</td>\n",
       "      <td>2022</td>\n",
       "    </tr>\n",
       "    <tr>\n",
       "      <th>11</th>\n",
       "      <td>50107</td>\n",
       "      <td>257</td>\n",
       "      <td>NaT</td>\n",
       "      <td>Saque</td>\n",
       "      <td>-175.0</td>\n",
       "      <td>&lt;NA&gt;</td>\n",
       "    </tr>\n",
       "    <tr>\n",
       "      <th>12</th>\n",
       "      <td>9740</td>\n",
       "      <td>513</td>\n",
       "      <td>2022-09-19 08:58:15+00:00</td>\n",
       "      <td>Saque</td>\n",
       "      <td>-130.0</td>\n",
       "      <td>2022</td>\n",
       "    </tr>\n",
       "    <tr>\n",
       "      <th>13</th>\n",
       "      <td>18182</td>\n",
       "      <td>513</td>\n",
       "      <td>2022-09-30 20:55:16+00:00</td>\n",
       "      <td>Saque</td>\n",
       "      <td>-140.0</td>\n",
       "      <td>2022</td>\n",
       "    </tr>\n",
       "    <tr>\n",
       "      <th>14</th>\n",
       "      <td>65003</td>\n",
       "      <td>513</td>\n",
       "      <td>NaT</td>\n",
       "      <td>Saque</td>\n",
       "      <td>-35.0</td>\n",
       "      <td>&lt;NA&gt;</td>\n",
       "    </tr>\n",
       "    <tr>\n",
       "      <th>15</th>\n",
       "      <td>70201</td>\n",
       "      <td>513</td>\n",
       "      <td>NaT</td>\n",
       "      <td>Saque</td>\n",
       "      <td>-250.0</td>\n",
       "      <td>&lt;NA&gt;</td>\n",
       "    </tr>\n",
       "    <tr>\n",
       "      <th>16</th>\n",
       "      <td>47384</td>\n",
       "      <td>769</td>\n",
       "      <td>2019-11-28 16:30:32+00:00</td>\n",
       "      <td>Saque</td>\n",
       "      <td>-120.0</td>\n",
       "      <td>2019</td>\n",
       "    </tr>\n",
       "    <tr>\n",
       "      <th>17</th>\n",
       "      <td>53165</td>\n",
       "      <td>769</td>\n",
       "      <td>2019-12-07 14:39:41+00:00</td>\n",
       "      <td>Saque</td>\n",
       "      <td>-360.0</td>\n",
       "      <td>2019</td>\n",
       "    </tr>\n",
       "    <tr>\n",
       "      <th>18</th>\n",
       "      <td>56160</td>\n",
       "      <td>769</td>\n",
       "      <td>2019-12-08 05:54:14+00:00</td>\n",
       "      <td>Saque</td>\n",
       "      <td>-130.0</td>\n",
       "      <td>2019</td>\n",
       "    </tr>\n",
       "    <tr>\n",
       "      <th>19</th>\n",
       "      <td>71523</td>\n",
       "      <td>769</td>\n",
       "      <td>2022-08-29 02:51:43+00:00</td>\n",
       "      <td>Saque</td>\n",
       "      <td>-130.0</td>\n",
       "      <td>2022</td>\n",
       "    </tr>\n",
       "    <tr>\n",
       "      <th>20</th>\n",
       "      <td>51163</td>\n",
       "      <td>2</td>\n",
       "      <td>NaT</td>\n",
       "      <td>Saque</td>\n",
       "      <td>-190.0</td>\n",
       "      <td>&lt;NA&gt;</td>\n",
       "    </tr>\n",
       "    <tr>\n",
       "      <th>21</th>\n",
       "      <td>53595</td>\n",
       "      <td>2</td>\n",
       "      <td>NaT</td>\n",
       "      <td>Saque</td>\n",
       "      <td>-35.0</td>\n",
       "      <td>&lt;NA&gt;</td>\n",
       "    </tr>\n",
       "    <tr>\n",
       "      <th>22</th>\n",
       "      <td>71539</td>\n",
       "      <td>2</td>\n",
       "      <td>NaT</td>\n",
       "      <td>Saque</td>\n",
       "      <td>-65.0</td>\n",
       "      <td>&lt;NA&gt;</td>\n",
       "    </tr>\n",
       "    <tr>\n",
       "      <th>23</th>\n",
       "      <td>46162</td>\n",
       "      <td>258</td>\n",
       "      <td>2016-01-02 01:00:36+00:00</td>\n",
       "      <td>Saque</td>\n",
       "      <td>-215.0</td>\n",
       "      <td>2016</td>\n",
       "    </tr>\n",
       "    <tr>\n",
       "      <th>24</th>\n",
       "      <td>39404</td>\n",
       "      <td>514</td>\n",
       "      <td>NaT</td>\n",
       "      <td>Saque</td>\n",
       "      <td>-345.0</td>\n",
       "      <td>&lt;NA&gt;</td>\n",
       "    </tr>\n",
       "    <tr>\n",
       "      <th>25</th>\n",
       "      <td>42072</td>\n",
       "      <td>514</td>\n",
       "      <td>NaT</td>\n",
       "      <td>Saque</td>\n",
       "      <td>-110.0</td>\n",
       "      <td>&lt;NA&gt;</td>\n",
       "    </tr>\n",
       "    <tr>\n",
       "      <th>26</th>\n",
       "      <td>57169</td>\n",
       "      <td>514</td>\n",
       "      <td>NaT</td>\n",
       "      <td>Saque</td>\n",
       "      <td>-85.0</td>\n",
       "      <td>&lt;NA&gt;</td>\n",
       "    </tr>\n",
       "    <tr>\n",
       "      <th>27</th>\n",
       "      <td>58524</td>\n",
       "      <td>514</td>\n",
       "      <td>NaT</td>\n",
       "      <td>Saque</td>\n",
       "      <td>-820.0</td>\n",
       "      <td>&lt;NA&gt;</td>\n",
       "    </tr>\n",
       "    <tr>\n",
       "      <th>28</th>\n",
       "      <td>16523</td>\n",
       "      <td>770</td>\n",
       "      <td>2022-12-29 22:26:58+00:00</td>\n",
       "      <td>Saque</td>\n",
       "      <td>-75.0</td>\n",
       "      <td>2022</td>\n",
       "    </tr>\n",
       "    <tr>\n",
       "      <th>29</th>\n",
       "      <td>23616</td>\n",
       "      <td>770</td>\n",
       "      <td>2022-12-29 23:59:25+00:00</td>\n",
       "      <td>Saque</td>\n",
       "      <td>-400.0</td>\n",
       "      <td>2022</td>\n",
       "    </tr>\n",
       "  </tbody>\n",
       "</table>\n",
       "</div>"
      ],
      "text/plain": [
       "    cod_transacao  num_conta            data_transacao nome_transacao  \\\n",
       "0            3100        256 2020-05-22 03:15:21+00:00          Saque   \n",
       "1           28405        256 2021-06-29 11:52:38+00:00          Saque   \n",
       "2            1776        512 2020-05-17 13:04:50+00:00          Saque   \n",
       "3           14311        512 2020-09-06 02:55:34+00:00          Saque   \n",
       "4           25012        512 2020-10-16 09:26:52+00:00          Saque   \n",
       "5           26883        512 2020-11-09 00:47:27+00:00          Saque   \n",
       "6           35017        512 2021-04-13 08:17:24+00:00          Saque   \n",
       "7           46264        512 2021-05-01 06:25:50+00:00          Saque   \n",
       "8           21340        768 2020-02-14 21:42:15+00:00          Saque   \n",
       "9           64259          1 2019-08-11 15:13:07+00:00          Saque   \n",
       "10          28202        257 2022-12-26 05:13:37+00:00          Saque   \n",
       "11          50107        257                       NaT          Saque   \n",
       "12           9740        513 2022-09-19 08:58:15+00:00          Saque   \n",
       "13          18182        513 2022-09-30 20:55:16+00:00          Saque   \n",
       "14          65003        513                       NaT          Saque   \n",
       "15          70201        513                       NaT          Saque   \n",
       "16          47384        769 2019-11-28 16:30:32+00:00          Saque   \n",
       "17          53165        769 2019-12-07 14:39:41+00:00          Saque   \n",
       "18          56160        769 2019-12-08 05:54:14+00:00          Saque   \n",
       "19          71523        769 2022-08-29 02:51:43+00:00          Saque   \n",
       "20          51163          2                       NaT          Saque   \n",
       "21          53595          2                       NaT          Saque   \n",
       "22          71539          2                       NaT          Saque   \n",
       "23          46162        258 2016-01-02 01:00:36+00:00          Saque   \n",
       "24          39404        514                       NaT          Saque   \n",
       "25          42072        514                       NaT          Saque   \n",
       "26          57169        514                       NaT          Saque   \n",
       "27          58524        514                       NaT          Saque   \n",
       "28          16523        770 2022-12-29 22:26:58+00:00          Saque   \n",
       "29          23616        770 2022-12-29 23:59:25+00:00          Saque   \n",
       "\n",
       "    valor_transacao   ano  \n",
       "0            -130.0  2020  \n",
       "1            -255.0  2021  \n",
       "2            -250.0  2020  \n",
       "3             -80.0  2020  \n",
       "4            -475.0  2020  \n",
       "5            -210.0  2020  \n",
       "6             -50.0  2021  \n",
       "7           -1160.0  2021  \n",
       "8            -170.0  2020  \n",
       "9            -245.0  2019  \n",
       "10           -215.0  2022  \n",
       "11           -175.0  <NA>  \n",
       "12           -130.0  2022  \n",
       "13           -140.0  2022  \n",
       "14            -35.0  <NA>  \n",
       "15           -250.0  <NA>  \n",
       "16           -120.0  2019  \n",
       "17           -360.0  2019  \n",
       "18           -130.0  2019  \n",
       "19           -130.0  2022  \n",
       "20           -190.0  <NA>  \n",
       "21            -35.0  <NA>  \n",
       "22            -65.0  <NA>  \n",
       "23           -215.0  2016  \n",
       "24           -345.0  <NA>  \n",
       "25           -110.0  <NA>  \n",
       "26            -85.0  <NA>  \n",
       "27           -820.0  <NA>  \n",
       "28            -75.0  2022  \n",
       "29           -400.0  2022  "
      ]
     },
     "metadata": {},
     "output_type": "display_data"
    }
   ],
   "source": [
    "df['data_transacao'] = pd.to_datetime(df['data_transacao'], format='%Y-%m-%d %H:%M:%S %Z', errors='coerce')\n",
    "df['ano'] = df['data_transacao'].dt.year.astype('Int64')\n",
    "display(df.head(30))"
   ]
  },
  {
   "cell_type": "markdown",
   "metadata": {},
   "source": [
    "No dataframe já vemos muito valores nulos na coluna 'ano'. Iremos nos aprofundar nessa questão:"
   ]
  },
  {
   "cell_type": "code",
   "execution_count": 17,
   "metadata": {},
   "outputs": [
    {
     "name": "stdout",
     "output_type": "stream",
     "text": [
      "Número total de valores nulos na coluna 'ano': 13902\n",
      "Número total de valores nulos na coluna 'data_transacao': 13902\n"
     ]
    }
   ],
   "source": [
    "\n",
    "num_nulos_ano = df['ano'].isnull().sum()\n",
    "num_nulos_data_transacao = df['data_transacao'].isnull().sum()\n",
    "\n",
    "print(\"Número total de valores nulos na coluna 'ano':\", num_nulos_ano)\n",
    "print(\"Número total de valores nulos na coluna 'data_transacao':\", num_nulos_data_transacao)\n"
   ]
  },
  {
   "cell_type": "code",
   "execution_count": 18,
   "metadata": {},
   "outputs": [
    {
     "name": "stdout",
     "output_type": "stream",
     "text": [
      "Número total de linhas na coluna 'ano': 71999\n"
     ]
    }
   ],
   "source": [
    "num_total_linhas = df['ano'].shape[0]\n",
    "print(\"Número total de linhas na coluna 'ano':\", num_total_linhas)\n"
   ]
  },
  {
   "cell_type": "code",
   "execution_count": 19,
   "metadata": {},
   "outputs": [
    {
     "name": "stdout",
     "output_type": "stream",
     "text": [
      "Número total de linhas no DataFrame 'transacoes': 71999\n"
     ]
    }
   ],
   "source": [
    "num_total_linhas_transacoes = df.shape[0]\n",
    "print(\"Número total de linhas no DataFrame 'transacoes':\", num_total_linhas_transacoes)\n"
   ]
  },
  {
   "cell_type": "markdown",
   "metadata": {},
   "source": [
    "Dada a situação em que a coluna 'ano' possui uma proporção significativa de valores nulos (19%), é importante abordar isso de maneira cuidadosa para garantir a integridade da análise."
   ]
  },
  {
   "cell_type": "code",
   "execution_count": 20,
   "metadata": {},
   "outputs": [],
   "source": [
    "#preenchimento com valor padrão\n",
    "df['ano'].fillna(df['ano'].mode()[0], inplace=True)\n"
   ]
  },
  {
   "cell_type": "code",
   "execution_count": 21,
   "metadata": {},
   "outputs": [
    {
     "name": "stdout",
     "output_type": "stream",
     "text": [
      "Número total de valores nulos na coluna 'ano': 0\n"
     ]
    }
   ],
   "source": [
    "num_nulos_ano = df['ano'].isnull().sum()\n",
    "print(\"Número total de valores nulos na coluna 'ano':\", num_nulos_ano)"
   ]
  },
  {
   "cell_type": "code",
   "execution_count": 22,
   "metadata": {},
   "outputs": [],
   "source": [
    "\n",
    "df.to_csv('transacoes_atualizado.csv', index=False)\n"
   ]
  },
  {
   "cell_type": "code",
   "execution_count": 23,
   "metadata": {},
   "outputs": [
    {
     "data": {
      "text/html": [
       "<div>\n",
       "<style scoped>\n",
       "    .dataframe tbody tr th:only-of-type {\n",
       "        vertical-align: middle;\n",
       "    }\n",
       "\n",
       "    .dataframe tbody tr th {\n",
       "        vertical-align: top;\n",
       "    }\n",
       "\n",
       "    .dataframe thead th {\n",
       "        text-align: right;\n",
       "    }\n",
       "</style>\n",
       "<table border=\"1\" class=\"dataframe\">\n",
       "  <thead>\n",
       "    <tr style=\"text-align: right;\">\n",
       "      <th></th>\n",
       "      <th>cod_transacao</th>\n",
       "      <th>num_conta</th>\n",
       "      <th>data_transacao</th>\n",
       "      <th>nome_transacao</th>\n",
       "      <th>valor_transacao</th>\n",
       "      <th>ano</th>\n",
       "    </tr>\n",
       "  </thead>\n",
       "  <tbody>\n",
       "    <tr>\n",
       "      <th>0</th>\n",
       "      <td>3100</td>\n",
       "      <td>256</td>\n",
       "      <td>2020-05-22 03:15:21+00:00</td>\n",
       "      <td>Saque</td>\n",
       "      <td>-130.0</td>\n",
       "      <td>2020</td>\n",
       "    </tr>\n",
       "    <tr>\n",
       "      <th>1</th>\n",
       "      <td>28405</td>\n",
       "      <td>256</td>\n",
       "      <td>2021-06-29 11:52:38+00:00</td>\n",
       "      <td>Saque</td>\n",
       "      <td>-255.0</td>\n",
       "      <td>2021</td>\n",
       "    </tr>\n",
       "    <tr>\n",
       "      <th>2</th>\n",
       "      <td>1776</td>\n",
       "      <td>512</td>\n",
       "      <td>2020-05-17 13:04:50+00:00</td>\n",
       "      <td>Saque</td>\n",
       "      <td>-250.0</td>\n",
       "      <td>2020</td>\n",
       "    </tr>\n",
       "    <tr>\n",
       "      <th>3</th>\n",
       "      <td>14311</td>\n",
       "      <td>512</td>\n",
       "      <td>2020-09-06 02:55:34+00:00</td>\n",
       "      <td>Saque</td>\n",
       "      <td>-80.0</td>\n",
       "      <td>2020</td>\n",
       "    </tr>\n",
       "    <tr>\n",
       "      <th>4</th>\n",
       "      <td>25012</td>\n",
       "      <td>512</td>\n",
       "      <td>2020-10-16 09:26:52+00:00</td>\n",
       "      <td>Saque</td>\n",
       "      <td>-475.0</td>\n",
       "      <td>2020</td>\n",
       "    </tr>\n",
       "  </tbody>\n",
       "</table>\n",
       "</div>"
      ],
      "text/plain": [
       "   cod_transacao  num_conta             data_transacao nome_transacao  \\\n",
       "0           3100        256  2020-05-22 03:15:21+00:00          Saque   \n",
       "1          28405        256  2021-06-29 11:52:38+00:00          Saque   \n",
       "2           1776        512  2020-05-17 13:04:50+00:00          Saque   \n",
       "3          14311        512  2020-09-06 02:55:34+00:00          Saque   \n",
       "4          25012        512  2020-10-16 09:26:52+00:00          Saque   \n",
       "\n",
       "   valor_transacao   ano  \n",
       "0           -130.0  2020  \n",
       "1           -255.0  2021  \n",
       "2           -250.0  2020  \n",
       "3            -80.0  2020  \n",
       "4           -475.0  2020  "
      ]
     },
     "execution_count": 23,
     "metadata": {},
     "output_type": "execute_result"
    }
   ],
   "source": [
    "df_atualizado = pd.read_csv('transacoes_atualizado.csv')\n",
    "df_atualizado.head()"
   ]
  },
  {
   "cell_type": "code",
   "execution_count": 24,
   "metadata": {},
   "outputs": [
    {
     "name": "stdout",
     "output_type": "stream",
     "text": [
      "[-130.  -255.  -250.  ...  414.8  720.4  420.7]\n"
     ]
    }
   ],
   "source": [
    "movimentacoes = pd.read_csv(\"transacoes_atualizado.csv\")\n",
    "valor_transacao = movimentacoes['valor_transacao'].unique()\n",
    "print(valor_transacao)"
   ]
  },
  {
   "cell_type": "code",
   "execution_count": 25,
   "metadata": {},
   "outputs": [
    {
     "name": "stdout",
     "output_type": "stream",
     "text": [
      "Número total de valores nulos na coluna 'ano' (atualizado): 0\n"
     ]
    }
   ],
   "source": [
    "df_atualizado = pd.read_csv('transacoes_atualizado.csv')\n",
    "num_nulos_ano_atualizado = df_atualizado['ano'].isnull().sum()\n",
    "print(\"Número total de valores nulos na coluna 'ano' (atualizado):\", num_nulos_ano_atualizado)\n"
   ]
  },
  {
   "cell_type": "markdown",
   "metadata": {},
   "source": [
    "Verificar nulos em 'tipo_agencia':\n"
   ]
  },
  {
   "cell_type": "code",
   "execution_count": 26,
   "metadata": {},
   "outputs": [
    {
     "name": "stdout",
     "output_type": "stream",
     "text": [
      "Número total de valores nulos na coluna 'tipo_agencia': 0\n"
     ]
    }
   ],
   "source": [
    "num_nulos_tipo_agencia = agencias['tipo_agencia'].isnull().sum()\n",
    "print(\"Número total de valores nulos na coluna 'tipo_agencia':\", num_nulos_tipo_agencia)\n"
   ]
  },
  {
   "cell_type": "code",
   "execution_count": 27,
   "metadata": {},
   "outputs": [
    {
     "data": {
      "image/png": "[encoded data removed]",
      "text/plain": [
       "<Figure size 800x400 with 1 Axes>"
      ]
     },
     "metadata": {},
     "output_type": "display_data"
    }
   ],
   "source": [
    "#soma das transações ao longo do tempo, por agência\n",
    "df_contas = pd.read_csv('contas.csv')\n",
    "df_transacoes = pd.read_csv('transacoes_atualizado.csv')\n",
    "df_agencias = pd.read_csv('agencias.csv')\n",
    "\n",
    "df_merged = pd.merge(df_transacoes, df_contas, on='num_conta', how='left')\n",
    "df_merged = pd.merge(df_merged, df_agencias, on='cod_agencia', how='left')\n",
    "df_merged['ano'] = pd.to_datetime(df_merged['data_transacao'], errors='coerce').dt.year\n",
    "\n",
    "df_agrupado = df_merged.groupby(['ano', 'tipo_agencia'])['valor_transacao'].sum().reset_index()\n",
    "\n",
    "plt.figure(figsize=(8, 4))\n",
    "\n",
    "for tipo_agencia in df_agrupado['tipo_agencia'].unique():\n",
    "    dados_tipo_agencia = df_agrupado[df_agrupado['tipo_agencia'] == tipo_agencia]\n",
    "    plt.plot(dados_tipo_agencia['ano'], dados_tipo_agencia['valor_transacao'], label=tipo_agencia)\n",
    "\n",
    "plt.legend(title='Tipo de Agência')\n",
    "plt.xlabel('Ano')\n",
    "plt.ylabel('Soma de Transações')\n",
    "plt.title('Soma de Transações ao Longo dos Anos por Tipo de Agência')\n",
    "plt.show()\n"
   ]
  },
  {
   "cell_type": "markdown",
   "metadata": {},
   "source": [
    "Iremos investigar essa queda considerável em 2023, que vemos no gráfico."
   ]
  },
  {
   "cell_type": "code",
   "execution_count": 28,
   "metadata": {},
   "outputs": [
    {
     "name": "stdout",
     "output_type": "stream",
     "text": [
      "Meses com transações em 2023: [1]\n"
     ]
    }
   ],
   "source": [
    "df_transacoes = pd.read_csv('transacoes_atualizado.csv')\n",
    "df_transacoes['data_transacao'] = pd.to_datetime(df_transacoes['data_transacao'])\n",
    "df_2023 = df_transacoes[df_transacoes['data_transacao'].dt.year == 2023]\n",
    "\n",
    "meses_com_transacoes = df_2023['data_transacao'].dt.month.unique()\n",
    "\n",
    "print(\"Meses com transações em 2023:\", meses_com_transacoes)\n"
   ]
  },
  {
   "cell_type": "markdown",
   "metadata": {},
   "source": [
    "Houve transação somente em um mês de 2023, por isso a queda no valor. "
   ]
  },
  {
   "cell_type": "code",
   "execution_count": 29,
   "metadata": {},
   "outputs": [],
   "source": [
    "import calendar\n"
   ]
  },
  {
   "cell_type": "code",
   "execution_count": 30,
   "metadata": {},
   "outputs": [
    {
     "name": "stdout",
     "output_type": "stream",
     "text": [
      "Meses com transações em 2023: ['January']\n"
     ]
    }
   ],
   "source": [
    "\n",
    "#filtro das transações para o ano de 2023 e print dos meses em que houveram transações\n",
    "df_transacoes = pd.read_csv('transacoes_atualizado.csv')\n",
    "\n",
    "df_transacoes['data_transacao'] = pd.to_datetime(df_transacoes['data_transacao'])\n",
    "\n",
    "df_2023 = df_transacoes[df_transacoes['data_transacao'].dt.year == 2023]\n",
    "\n",
    "meses_com_transacoes = df_2023['data_transacao'].dt.month.unique()\n",
    "\n",
    "nomes_meses = [calendar.month_name[mes] for mes in meses_com_transacoes]\n",
    "\n",
    "print(\"Meses com transações em 2023:\", nomes_meses)\n"
   ]
  },
  {
   "cell_type": "markdown",
   "metadata": {},
   "source": [
    "Como o último dado de transações, se refere a apenas o primeiro mês de 2023, não consideraremos este ano na análise."
   ]
  },
  {
   "cell_type": "code",
   "execution_count": 31,
   "metadata": {},
   "outputs": [
    {
     "name": "stdout",
     "output_type": "stream",
     "text": [
      "DataFrame df_total_transacoes:\n",
      "  tipo_agencia  valor_transacao\n",
      "0      Digital      11579143.34\n",
      "1       Física      14126311.06\n",
      "Valor Total de Transações nas Agências Digital: 11579143.34\n",
      "Valor Total de Transações nas Agências Física: 14126311.06\n"
     ]
    }
   ],
   "source": [
    "\n",
    "#fusão de dataframes relacionados a transações bancárias, contas e agências, \n",
    "# cálculo do valor total de transações por tipo de agência\n",
    "df_contas = pd.read_csv('contas.csv')\n",
    "df_transacoes = pd.read_csv('transacoes_atualizado.csv')\n",
    "df_agencias = pd.read_csv('agencias.csv')\n",
    "\n",
    "df_merged = pd.merge(df_transacoes, df_contas, on='num_conta', how='left')\n",
    "df_merged = pd.merge(df_merged, df_agencias, on='cod_agencia', how='left')\n",
    "\n",
    "df_merged['ano'] = pd.to_datetime(df_merged['data_transacao'], errors='coerce').dt.year\n",
    "\n",
    "df_total_transacoes = df_merged.groupby('tipo_agencia')['valor_transacao'].sum().reset_index()\n",
    "\n",
    "print(\"DataFrame df_total_transacoes:\")\n",
    "print(df_total_transacoes)\n",
    "\n",
    "for tipo_agencia in df_total_transacoes['tipo_agencia']:\n",
    "    valor_total = df_total_transacoes[df_total_transacoes['tipo_agencia'] == tipo_agencia]['valor_transacao'].values[0]\n",
    "    print(f\"Valor Total de Transações nas Agências {tipo_agencia.capitalize()}: {valor_total}\")\n"
   ]
  },
  {
   "cell_type": "code",
   "execution_count": 32,
   "metadata": {},
   "outputs": [
    {
     "name": "stdout",
     "output_type": "stream",
     "text": [
      "['Enviada' 'Aprovada' 'Em análise' 'Validação documentos']\n"
     ]
    }
   ],
   "source": [
    "propostas = pd.read_csv(\"propostas_credito.csv\")\n",
    "status_proposta = propostas['status_proposta'].unique()\n",
    "print(status_proposta)\n",
    "\n",
    "\n"
   ]
  },
  {
   "cell_type": "code",
   "execution_count": 33,
   "metadata": {},
   "outputs": [
    {
     "data": {
      "text/html": [
       "<div>\n",
       "<style scoped>\n",
       "    .dataframe tbody tr th:only-of-type {\n",
       "        vertical-align: middle;\n",
       "    }\n",
       "\n",
       "    .dataframe tbody tr th {\n",
       "        vertical-align: top;\n",
       "    }\n",
       "\n",
       "    .dataframe thead th {\n",
       "        text-align: right;\n",
       "    }\n",
       "</style>\n",
       "<table border=\"1\" class=\"dataframe\">\n",
       "  <thead>\n",
       "    <tr style=\"text-align: right;\">\n",
       "      <th></th>\n",
       "      <th>cod_cliente</th>\n",
       "      <th>primeiro_nome</th>\n",
       "      <th>ultimo_nome</th>\n",
       "      <th>endereco</th>\n",
       "      <th>cidade/uf</th>\n",
       "    </tr>\n",
       "  </thead>\n",
       "  <tbody>\n",
       "    <tr>\n",
       "      <th>0</th>\n",
       "      <td>28</td>\n",
       "      <td>Sabrina</td>\n",
       "      <td>Dias</td>\n",
       "      <td>Praia de Duarte Vila Piratininga 81327-166 Fer...</td>\n",
       "      <td>Fernandes das Pedras / SP</td>\n",
       "    </tr>\n",
       "    <tr>\n",
       "      <th>1</th>\n",
       "      <td>674</td>\n",
       "      <td>Luiz Felipe</td>\n",
       "      <td>Dias</td>\n",
       "      <td>Avenida da Rosa, 654 João Paulo Ii 20295449 Nu...</td>\n",
       "      <td>Nunes / AP</td>\n",
       "    </tr>\n",
       "    <tr>\n",
       "      <th>2</th>\n",
       "      <td>693</td>\n",
       "      <td>Renan</td>\n",
       "      <td>Dias</td>\n",
       "      <td>Jardim de Rodrigues Ipiranga 14161-477 Duarte ...</td>\n",
       "      <td>Duarte da Praia / RN</td>\n",
       "    </tr>\n",
       "    <tr>\n",
       "      <th>3</th>\n",
       "      <td>743</td>\n",
       "      <td>Clara</td>\n",
       "      <td>Dias</td>\n",
       "      <td>Colônia Thomas Silva, 9 Tupi B 15771-946 Ferna...</td>\n",
       "      <td>Fernandes / SP</td>\n",
       "    </tr>\n",
       "    <tr>\n",
       "      <th>4</th>\n",
       "      <td>769</td>\n",
       "      <td>André</td>\n",
       "      <td>Dias</td>\n",
       "      <td>Rua Correia, 889 Diamante 59123250 Aragão / RS</td>\n",
       "      <td>Aragão / RS</td>\n",
       "    </tr>\n",
       "    <tr>\n",
       "      <th>5</th>\n",
       "      <td>824</td>\n",
       "      <td>Heloísa</td>\n",
       "      <td>Dias</td>\n",
       "      <td>Favela de da Mata, 3 Conjunto Novo Dom Bosco 7...</td>\n",
       "      <td>Vieira / MS</td>\n",
       "    </tr>\n",
       "    <tr>\n",
       "      <th>6</th>\n",
       "      <td>884</td>\n",
       "      <td>Maria Julia</td>\n",
       "      <td>Dias</td>\n",
       "      <td>Esplanada Maria Luiza Ribeiro, 4 Conjunto Cali...</td>\n",
       "      <td>Moraes / ES</td>\n",
       "    </tr>\n",
       "    <tr>\n",
       "      <th>7</th>\n",
       "      <td>899</td>\n",
       "      <td>Arthur</td>\n",
       "      <td>Dias</td>\n",
       "      <td>Ladeira Elisa da Rocha, 69 João Pinheiro 13964...</td>\n",
       "      <td>Araújo da Prata / PB</td>\n",
       "    </tr>\n",
       "    <tr>\n",
       "      <th>8</th>\n",
       "      <td>908</td>\n",
       "      <td>Vitor Gabriel</td>\n",
       "      <td>Dias</td>\n",
       "      <td>Passarela Lucca Castro, 73 Vila Paris 99268696...</td>\n",
       "      <td>Farias / BA</td>\n",
       "    </tr>\n",
       "    <tr>\n",
       "      <th>9</th>\n",
       "      <td>945</td>\n",
       "      <td>Caio</td>\n",
       "      <td>Dias</td>\n",
       "      <td>Fazenda Emanuel Gomes, 6 Cruzeiro 29428-910 No...</td>\n",
       "      <td>Novaes / SP</td>\n",
       "    </tr>\n",
       "  </tbody>\n",
       "</table>\n",
       "</div>"
      ],
      "text/plain": [
       "   cod_cliente  primeiro_nome ultimo_nome  \\\n",
       "0           28        Sabrina        Dias   \n",
       "1          674    Luiz Felipe        Dias   \n",
       "2          693          Renan        Dias   \n",
       "3          743          Clara        Dias   \n",
       "4          769          André        Dias   \n",
       "5          824        Heloísa        Dias   \n",
       "6          884    Maria Julia        Dias   \n",
       "7          899         Arthur        Dias   \n",
       "8          908  Vitor Gabriel        Dias   \n",
       "9          945           Caio        Dias   \n",
       "\n",
       "                                            endereco  \\\n",
       "0  Praia de Duarte Vila Piratininga 81327-166 Fer...   \n",
       "1  Avenida da Rosa, 654 João Paulo Ii 20295449 Nu...   \n",
       "2  Jardim de Rodrigues Ipiranga 14161-477 Duarte ...   \n",
       "3  Colônia Thomas Silva, 9 Tupi B 15771-946 Ferna...   \n",
       "4     Rua Correia, 889 Diamante 59123250 Aragão / RS   \n",
       "5  Favela de da Mata, 3 Conjunto Novo Dom Bosco 7...   \n",
       "6  Esplanada Maria Luiza Ribeiro, 4 Conjunto Cali...   \n",
       "7  Ladeira Elisa da Rocha, 69 João Pinheiro 13964...   \n",
       "8  Passarela Lucca Castro, 73 Vila Paris 99268696...   \n",
       "9  Fazenda Emanuel Gomes, 6 Cruzeiro 29428-910 No...   \n",
       "\n",
       "                   cidade/uf  \n",
       "0  Fernandes das Pedras / SP  \n",
       "1                 Nunes / AP  \n",
       "2       Duarte da Praia / RN  \n",
       "3             Fernandes / SP  \n",
       "4                Aragão / RS  \n",
       "5                Vieira / MS  \n",
       "6                Moraes / ES  \n",
       "7       Araújo da Prata / PB  \n",
       "8                Farias / BA  \n",
       "9                Novaes / SP  "
      ]
     },
     "metadata": {},
     "output_type": "display_data"
    }
   ],
   "source": [
    "\n",
    "#extrair e criar uma nova coluna chamada 'cidade/uf' a partir dos endereços presentes no dataframe de clientes\n",
    "clientes = pd.read_csv(\"clientes.csv\")\n",
    "\n",
    "def extrair_cidade_uf(endereco):\n",
    "    posicao_ultimo_numero = max((i for i, caractere in enumerate(endereco) if caractere.isdigit()), default=-1)\n",
    "    \n",
    "    if posicao_ultimo_numero == -1:\n",
    "        return endereco\n",
    "    \n",
    "    cidade_uf = endereco[posicao_ultimo_numero + 1:].strip()\n",
    "    return cidade_uf.replace('\"', '')\n",
    "\n",
    "clientes['cidade/uf'] = clientes['endereco'].apply(extrair_cidade_uf)\n",
    "\n",
    "display(clientes[['cod_cliente', 'primeiro_nome', 'ultimo_nome', 'endereco', 'cidade/uf']].head(10))\n",
    "\n"
   ]
  },
  {
   "cell_type": "code",
   "execution_count": 34,
   "metadata": {},
   "outputs": [
    {
     "name": "stdout",
     "output_type": "stream",
     "text": [
      "O DataFrame \"clientes\" possui 71999 linhas.\n"
     ]
    }
   ],
   "source": [
    "num_linhas = len(df)\n",
    "print(f'O DataFrame \"clientes\" possui {num_linhas} linhas.')\n"
   ]
  },
  {
   "cell_type": "code",
   "execution_count": 35,
   "metadata": {},
   "outputs": [],
   "source": [
    "clientes.to_csv('clientes_atualizado.csv', index = False)"
   ]
  },
  {
   "cell_type": "code",
   "execution_count": 36,
   "metadata": {},
   "outputs": [
    {
     "data": {
      "text/html": [
       "<div>\n",
       "<style scoped>\n",
       "    .dataframe tbody tr th:only-of-type {\n",
       "        vertical-align: middle;\n",
       "    }\n",
       "\n",
       "    .dataframe tbody tr th {\n",
       "        vertical-align: top;\n",
       "    }\n",
       "\n",
       "    .dataframe thead th {\n",
       "        text-align: right;\n",
       "    }\n",
       "</style>\n",
       "<table border=\"1\" class=\"dataframe\">\n",
       "  <thead>\n",
       "    <tr style=\"text-align: right;\">\n",
       "      <th></th>\n",
       "      <th>cod_cliente</th>\n",
       "      <th>primeiro_nome</th>\n",
       "      <th>ultimo_nome</th>\n",
       "      <th>email</th>\n",
       "      <th>tipo_cliente</th>\n",
       "      <th>data_inclusao</th>\n",
       "      <th>cpfcnpj</th>\n",
       "      <th>data_nascimento</th>\n",
       "      <th>endereco</th>\n",
       "      <th>cep</th>\n",
       "      <th>cidade/uf</th>\n",
       "    </tr>\n",
       "  </thead>\n",
       "  <tbody>\n",
       "    <tr>\n",
       "      <th>0</th>\n",
       "      <td>28</td>\n",
       "      <td>Sabrina</td>\n",
       "      <td>Dias</td>\n",
       "      <td>moreiraemanuelly@example.org</td>\n",
       "      <td>PF</td>\n",
       "      <td>2017-04-03 16:11:00 UTC</td>\n",
       "      <td>357.081.496-39</td>\n",
       "      <td>2006-08-11</td>\n",
       "      <td>Praia de Duarte Vila Piratininga 81327-166 Fer...</td>\n",
       "      <td>95140-704</td>\n",
       "      <td>Fernandes das Pedras / SP</td>\n",
       "    </tr>\n",
       "    <tr>\n",
       "      <th>1</th>\n",
       "      <td>674</td>\n",
       "      <td>Luiz Felipe</td>\n",
       "      <td>Dias</td>\n",
       "      <td>pedroferreira@example.org</td>\n",
       "      <td>PF</td>\n",
       "      <td>2021-02-10 13:27:00 UTC</td>\n",
       "      <td>085.196.374-93</td>\n",
       "      <td>1995-10-11</td>\n",
       "      <td>Avenida da Rosa, 654 João Paulo Ii 20295449 Nu...</td>\n",
       "      <td>76516-765</td>\n",
       "      <td>Nunes / AP</td>\n",
       "    </tr>\n",
       "    <tr>\n",
       "      <th>2</th>\n",
       "      <td>693</td>\n",
       "      <td>Renan</td>\n",
       "      <td>Dias</td>\n",
       "      <td>ogomes@example.net</td>\n",
       "      <td>PF</td>\n",
       "      <td>2020-01-21 13:12:00 UTC</td>\n",
       "      <td>783.416.059-10</td>\n",
       "      <td>1948-11-19</td>\n",
       "      <td>Jardim de Rodrigues Ipiranga 14161-477 Duarte ...</td>\n",
       "      <td>51779625</td>\n",
       "      <td>Duarte da Praia / RN</td>\n",
       "    </tr>\n",
       "    <tr>\n",
       "      <th>3</th>\n",
       "      <td>743</td>\n",
       "      <td>Clara</td>\n",
       "      <td>Dias</td>\n",
       "      <td>rafaelcorreia@example.org</td>\n",
       "      <td>PF</td>\n",
       "      <td>2019-05-06 11:39:00 UTC</td>\n",
       "      <td>589.237.610-95</td>\n",
       "      <td>1978-01-27</td>\n",
       "      <td>Colônia Thomas Silva, 9 Tupi B 15771-946 Ferna...</td>\n",
       "      <td>19615792</td>\n",
       "      <td>Fernandes / SP</td>\n",
       "    </tr>\n",
       "    <tr>\n",
       "      <th>4</th>\n",
       "      <td>769</td>\n",
       "      <td>André</td>\n",
       "      <td>Dias</td>\n",
       "      <td>danilo33@example.org</td>\n",
       "      <td>PF</td>\n",
       "      <td>2017-01-07 14:53:00 UTC</td>\n",
       "      <td>459.608.721-02</td>\n",
       "      <td>1990-08-25</td>\n",
       "      <td>Rua Correia, 889 Diamante 59123250 Aragão / RS</td>\n",
       "      <td>01672838</td>\n",
       "      <td>Aragão / RS</td>\n",
       "    </tr>\n",
       "  </tbody>\n",
       "</table>\n",
       "</div>"
      ],
      "text/plain": [
       "   cod_cliente primeiro_nome ultimo_nome                         email  \\\n",
       "0           28       Sabrina        Dias  moreiraemanuelly@example.org   \n",
       "1          674   Luiz Felipe        Dias     pedroferreira@example.org   \n",
       "2          693         Renan        Dias            ogomes@example.net   \n",
       "3          743         Clara        Dias     rafaelcorreia@example.org   \n",
       "4          769         André        Dias          danilo33@example.org   \n",
       "\n",
       "  tipo_cliente            data_inclusao         cpfcnpj data_nascimento  \\\n",
       "0           PF  2017-04-03 16:11:00 UTC  357.081.496-39      2006-08-11   \n",
       "1           PF  2021-02-10 13:27:00 UTC  085.196.374-93      1995-10-11   \n",
       "2           PF  2020-01-21 13:12:00 UTC  783.416.059-10      1948-11-19   \n",
       "3           PF  2019-05-06 11:39:00 UTC  589.237.610-95      1978-01-27   \n",
       "4           PF  2017-01-07 14:53:00 UTC  459.608.721-02      1990-08-25   \n",
       "\n",
       "                                            endereco        cep  \\\n",
       "0  Praia de Duarte Vila Piratininga 81327-166 Fer...  95140-704   \n",
       "1  Avenida da Rosa, 654 João Paulo Ii 20295449 Nu...  76516-765   \n",
       "2  Jardim de Rodrigues Ipiranga 14161-477 Duarte ...   51779625   \n",
       "3  Colônia Thomas Silva, 9 Tupi B 15771-946 Ferna...   19615792   \n",
       "4     Rua Correia, 889 Diamante 59123250 Aragão / RS   01672838   \n",
       "\n",
       "                   cidade/uf  \n",
       "0  Fernandes das Pedras / SP  \n",
       "1                 Nunes / AP  \n",
       "2       Duarte da Praia / RN  \n",
       "3             Fernandes / SP  \n",
       "4                Aragão / RS  "
      ]
     },
     "metadata": {},
     "output_type": "display_data"
    }
   ],
   "source": [
    "clientes_atualizado = pd.read_csv('clientes_atualizado.csv')\n",
    "display(clientes_atualizado.head())"
   ]
  },
  {
   "cell_type": "code",
   "execution_count": 37,
   "metadata": {},
   "outputs": [
    {
     "name": "stdout",
     "output_type": "stream",
     "text": [
      "                   cidade/uf  valor_transacao\n",
      "0               Almeida / ES         56551.49\n",
      "1               Almeida / PA           241.98\n",
      "2               Almeida / PB         84678.16\n",
      "3               Almeida / RO         19292.72\n",
      "4               Almeida / RS          9013.16\n",
      "..                       ...              ...\n",
      "936  das Neves do Campo / MS        108338.43\n",
      "937  das Neves do Galho / DF          5112.55\n",
      "938  das Neves do Galho / SP         14689.17\n",
      "939  das Neves do Norte / DF         67382.17\n",
      "940  das Neves do Oeste / SC           116.36\n",
      "\n",
      "[941 rows x 2 columns]\n"
     ]
    }
   ],
   "source": [
    "# Após o processo de junção, os valores das transações são agrupados por cidade/uf, \n",
    "# proporcionando uma visão da soma total das transações para cada localidade\n",
    "transacoes = pd.read_csv('transacoes_atualizado.csv')\n",
    "contas = pd.read_csv('contas.csv')\n",
    "clientes = pd.read_csv('clientes_atualizado.csv')\n",
    "\n",
    "merged_df = pd.merge(transacoes, contas, on='num_conta', how='left')\n",
    "\n",
    "final_df = pd.merge(merged_df, clientes, on='cod_cliente', how='left')\n",
    "\n",
    "final_df['num_conta'] = final_df['num_conta'].astype(str)\n",
    "\n",
    "df_agrupado = final_df.groupby('cidade/uf')['valor_transacao'].sum().reset_index()\n",
    "\n",
    "print(df_agrupado)\n"
   ]
  },
  {
   "cell_type": "code",
   "execution_count": 40,
   "metadata": {},
   "outputs": [
    {
     "name": "stdout",
     "output_type": "stream",
     "text": [
      "['Saque' 'Pix Saque' 'Compra Débito' 'DOC - Recebido' 'Pix - Recebido'\n",
      " 'TED - Recebido' 'Compra Crédito' 'DOC - Realizado' 'Pix - Realizado'\n",
      " 'TED - Realizado' 'Estorno de Debito' 'Pagamento de boleto'\n",
      " 'Depósito em espécie' 'Transferência entre CC - Débito'\n",
      " 'Transferência entre CC - Crédito']\n"
     ]
    }
   ],
   "source": [
    "valores_unicos = df_atualizado['nome_transacao'].unique()\n",
    "print(valores_unicos)"
   ]
  },
  {
   "cell_type": "code",
   "execution_count": 69,
   "metadata": {},
   "outputs": [
    {
     "data": {
      "image/png": "[encoded data removed]",
      "text/plain": [
       "<Figure size 600x400 with 1 Axes>"
      ]
     },
     "metadata": {},
     "output_type": "display_data"
    }
   ],
   "source": [
    "import seaborn as sns\n",
    "contagem_valores = df_atualizado['nome_transacao'].value_counts()\n",
    "\n",
    "sns.set(style=\"whitegrid\")\n",
    "\n",
    "plt.figure(figsize=(6, 4))\n",
    "sns.countplot(y='nome_transacao', data=df_atualizado, order=contagem_valores.index)\n",
    "\n",
    "plt.xlabel('Contagem')\n",
    "plt.ylabel('Nome da Transação')\n",
    "plt.title('Contagem de Valores na Coluna \"nome_transacao\"')\n",
    "plt.show()"
   ]
  },
  {
   "cell_type": "code",
   "execution_count": 44,
   "metadata": {},
   "outputs": [
    {
     "name": "stdout",
     "output_type": "stream",
     "text": [
      "nome_transacao\n",
      "Compra Crédito                      24977\n",
      "Compra Débito                       17662\n",
      "Pix - Realizado                     13164\n",
      "Pix - Recebido                       5134\n",
      "Depósito em espécie                  4866\n",
      "Saque                                2879\n",
      "TED - Recebido                       1005\n",
      "Pagamento de boleto                   452\n",
      "Transferência entre CC - Crédito      441\n",
      "Estorno de Debito                     403\n",
      "DOC - Recebido                        402\n",
      "Transferência entre CC - Débito       303\n",
      "TED - Realizado                       130\n",
      "DOC - Realizado                        91\n",
      "Pix Saque                              90\n",
      "Name: count, dtype: int64\n"
     ]
    }
   ],
   "source": [
    "contagem_valores = df_atualizado['nome_transacao'].value_counts()\n",
    "print(contagem_valores)"
   ]
  },
  {
   "cell_type": "code",
   "execution_count": 45,
   "metadata": {},
   "outputs": [
    {
     "name": "stdout",
     "output_type": "stream",
     "text": [
      "Número de valores nulos na coluna 'nome_transacao': 0\n"
     ]
    }
   ],
   "source": [
    "nulos_na_coluna = df_atualizado['nome_transacao'].isnull().sum()\n",
    "print(f\"Número de valores nulos na coluna 'nome_transacao': {nulos_na_coluna}\")"
   ]
  },
  {
   "cell_type": "code",
   "execution_count": 46,
   "metadata": {},
   "outputs": [
    {
     "name": "stdout",
     "output_type": "stream",
     "text": [
      "Número de valores nulos na coluna 'data_transacao': 13902\n"
     ]
    }
   ],
   "source": [
    "nulos_na_coluna = df_atualizado['data_transacao'].isnull().sum()\n",
    "print(f\"Número de valores nulos na coluna 'data_transacao': {nulos_na_coluna}\")"
   ]
  },
  {
   "cell_type": "code",
   "execution_count": 47,
   "metadata": {},
   "outputs": [
    {
     "name": "stdout",
     "output_type": "stream",
     "text": [
      "Porcentagem de valores nulos na coluna 'data_transacao': 19.31%\n"
     ]
    }
   ],
   "source": [
    "porcentagem_nulos = (df_atualizado['data_transacao'].isnull().sum() / len(df_atualizado)) * 100\n",
    "print(f\"Porcentagem de valores nulos na coluna 'data_transacao': {porcentagem_nulos:.2f}%\")"
   ]
  },
  {
   "cell_type": "code",
   "execution_count": 56,
   "metadata": {},
   "outputs": [
    {
     "name": "stdout",
     "output_type": "stream",
     "text": [
      "Tipo dos valores na coluna \"data_transacao\": object\n"
     ]
    }
   ],
   "source": [
    "tipo_dados_data_transacao = df_atualizado['data_transacao'].dtype\n",
    "print(f'Tipo dos valores na coluna \"data_transacao\": {tipo_dados_data_transacao}')\n"
   ]
  },
  {
   "cell_type": "code",
   "execution_count": 57,
   "metadata": {},
   "outputs": [],
   "source": [
    "df_atualizado['data_transacao'] = pd.to_datetime(df_atualizado['data_transacao'], errors='coerce')\n"
   ]
  },
  {
   "cell_type": "code",
   "execution_count": 60,
   "metadata": {},
   "outputs": [
    {
     "name": "stdout",
     "output_type": "stream",
     "text": [
      "Número de valores nulos na coluna 'data_transacao': 0\n"
     ]
    }
   ],
   "source": [
    "nulos_na_coluna = df_atualizado['data_transacao'].isnull().sum()\n",
    "print(f\"Número de valores nulos na coluna 'data_transacao': {nulos_na_coluna}\")"
   ]
  },
  {
   "cell_type": "code",
   "execution_count": 59,
   "metadata": {},
   "outputs": [
    {
     "name": "stderr",
     "output_type": "stream",
     "text": [
      "C:\\Users\\santi\\AppData\\Local\\Temp\\ipykernel_5408\\459113659.py:1: FutureWarning: Setting an item of incompatible dtype is deprecated and will raise in a future error of pandas. Value '1970-01-01 00:00:00' has dtype incompatible with datetime64[ns, UTC], please explicitly cast to a compatible dtype first.\n",
      "  df_atualizado['data_transacao'].fillna(pd.Timestamp('1970-01-01'), inplace=True)\n"
     ]
    }
   ],
   "source": [
    "df_atualizado['data_transacao'].fillna(pd.Timestamp('1970-01-01'), inplace=True)\n"
   ]
  },
  {
   "cell_type": "code",
   "execution_count": 61,
   "metadata": {},
   "outputs": [
    {
     "name": "stderr",
     "output_type": "stream",
     "text": [
      "C:\\Users\\santi\\AppData\\Local\\Temp\\ipykernel_5408\\3900772838.py:2: FutureWarning: Setting an item of incompatible dtype is deprecated and will raise in a future error of pandas. Value '1970-01-01 00:00:00' has dtype incompatible with datetime64[ns, UTC], please explicitly cast to a compatible dtype first.\n",
      "  df_atualizado['data_transacao'].fillna(pd.Timestamp('1970-01-01'), inplace=True)\n"
     ]
    }
   ],
   "source": [
    "\n",
    "df_atualizado['data_transacao'] = pd.to_datetime(df_atualizado['data_transacao'], errors='coerce')\n",
    "df_atualizado['data_transacao'].fillna(pd.Timestamp('1970-01-01'), inplace=True)\n",
    "\n",
    "df_atualizado.to_csv('transacoes_atualizado_tratado.csv', index=False)\n"
   ]
  },
  {
   "cell_type": "code",
   "execution_count": 50,
   "metadata": {},
   "outputs": [
    {
     "data": {
      "image/png": "[encoded data removed]",
      "text/plain": [
       "<Figure size 800x600 with 1 Axes>"
      ]
     },
     "metadata": {},
     "output_type": "display_data"
    }
   ],
   "source": [
    "\n",
    "\n",
    "valores_selecionados = ['Pix Saque', 'Pix - Realizado', 'Pix Recebido']\n",
    "df_selecionado = df_atualizado[df_atualizado['nome_transacao'].isin(valores_selecionados)]\n",
    "\n",
    "# Ordenando o DataFrame pelos anos\n",
    "df_selecionado = df_selecionado.sort_values(by='ano')\n",
    "\n",
    "sns.set(style=\"whitegrid\")\n",
    "\n",
    "plt.figure(figsize=(8, 6))\n",
    "sns.countplot(x='ano', hue='nome_transacao', data=df_selecionado)\n",
    "\n",
    "plt.xlabel('Ano')\n",
    "plt.ylabel('Contagem')\n",
    "plt.title('Contagem de Transações por Ano')\n",
    "\n",
    "plt.show()\n"
   ]
  },
  {
   "cell_type": "code",
   "execution_count": 54,
   "metadata": {},
   "outputs": [
    {
     "name": "stdout",
     "output_type": "stream",
     "text": [
      "    ano   nome_transacao  count\n",
      "0  2020  Pix - Realizado    246\n",
      "1  2020        Pix Saque      2\n",
      "2  2021  Pix - Realizado   2235\n",
      "3  2021        Pix Saque     17\n",
      "4  2022  Pix - Realizado  10683\n",
      "5  2022        Pix Saque     71\n"
     ]
    }
   ],
   "source": [
    "valores_transacao = ['Pix Saque', 'Pix - Realizado', 'Pix Recebido']\n",
    "\n",
    "df_selecionado = df_atualizado[df_atualizado['nome_transacao'].isin(valores_transacao)]\n",
    "\n",
    "contagem_por_ano = df_selecionado.groupby(['ano', 'nome_transacao']).size().reset_index(name='count')\n",
    "\n",
    "print(contagem_por_ano)\n"
   ]
  },
  {
   "cell_type": "code",
   "execution_count": 55,
   "metadata": {},
   "outputs": [
    {
     "name": "stdout",
     "output_type": "stream",
     "text": [
      "                   cidade/uf  quantidade_registros\n",
      "0               Almeida / ES                    77\n",
      "1               Almeida / PA                    77\n",
      "2               Almeida / PB                    66\n",
      "3               Almeida / RO                    91\n",
      "4               Almeida / RS                    82\n",
      "..                       ...                   ...\n",
      "936  das Neves do Campo / MS                    76\n",
      "937  das Neves do Galho / DF                    64\n",
      "938  das Neves do Galho / SP                    68\n",
      "939  das Neves do Norte / DF                    68\n",
      "940  das Neves do Oeste / SC                    88\n",
      "\n",
      "[941 rows x 2 columns]\n"
     ]
    }
   ],
   "source": [
    "\n",
    "\n",
    "transacoes = pd.read_csv('transacoes_atualizado.csv')\n",
    "contas = pd.read_csv('contas.csv')\n",
    "clientes = pd.read_csv('clientes_atualizado.csv')\n",
    "\n",
    "merged_df = pd.merge(transacoes, contas, on='num_conta', how='left')\n",
    "final_df = pd.merge(merged_df, clientes, on='cod_cliente', how='left')\n",
    "\n",
    "final_df['num_conta'] = final_df['num_conta'].astype(str)\n",
    "\n",
    "df_agrupado = final_df.groupby('cidade/uf').size().reset_index(name='quantidade_registros')\n",
    "\n",
    "print(df_agrupado)\n"
   ]
  },
  {
   "cell_type": "code",
   "execution_count": 64,
   "metadata": {},
   "outputs": [
    {
     "name": "stdout",
     "output_type": "stream",
     "text": [
      "[2010, 2011, 2012, 2013, 2014, 2015, 2016, 2017, 2018, 2019, 2020, 2021, 2022, 2023]\n"
     ]
    }
   ],
   "source": [
    "df_transacoes = pd.read_csv('transacoes_atualizado_tratado.csv')\n",
    "\n",
    "valores_unicos_ano = sorted(df_transacoes['ano'].unique())\n",
    "\n",
    "print(valores_unicos_ano)"
   ]
  },
  {
   "cell_type": "markdown",
   "metadata": {},
   "source": [
    "Com a preparação dos dados finalizada, seguirei com a análise no Power BI"
   ]
  }
 ],
 "metadata": {
  "kernelspec": {
   "display_name": "Python 3",
   "language": "python",
   "name": "python3"
  },
  "language_info": {
   "codemirror_mode": {
    "name": "ipython",
    "version": 3
   },
   "file_extension": ".py",
   "mimetype": "text/x-python",
   "name": "python",
   "nbconvert_exporter": "python",
   "pygments_lexer": "ipython3",
   "version": "3.11.4"
  }
 },
 "nbformat": 4,
 "nbformat_minor": 2
}
